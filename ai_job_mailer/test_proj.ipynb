{
 "cells": [
  {
   "cell_type": "code",
   "execution_count": 11,
   "id": "d5ca72ed-7a53-485c-ba1c-0b5eed462e85",
   "metadata": {},
   "outputs": [
    {
     "name": "stdin",
     "output_type": "stream",
     "text": [
      "Enter your Groq API key:  ········\n"
     ]
    }
   ],
   "source": [
    "import getpass\n",
    "import os\n",
    "\n",
    "if \"GROQ_API_KEY\" not in os.environ:\n",
    "    os.environ[\"GROQ_API_KEY\"] = getpass.getpass(\"Enter your Groq API key: \")"
   ]
  },
  {
   "cell_type": "code",
   "execution_count": 1,
   "id": "4e680814-e8d1-4702-b9ef-f0e632132ea2",
   "metadata": {},
   "outputs": [
    {
     "data": {
      "text/plain": [
       "\"\\n1. Search for an open opportunity at your possible potential clients\\n2. Search for relevant information from the opening that might act as a good starting point for your business with this company\\n3. Go through all of your company's projects and find relevant projects\\n4. Get important to share information about these projects\\n5. Write a compelling cold email about how your firm can be of great service to your potential client\\n6. Repeat for ALL potential clients\\n\""
      ]
     },
     "execution_count": 1,
     "metadata": {},
     "output_type": "execute_result"
    }
   ],
   "source": [
    "\"\"\"\n",
    "1. Search for an open opportunity at your possible potential clients\n",
    "2. Search for relevant information from the opening that might act as a good starting point for your business with this company\n",
    "3. Go through all of your company's projects and find relevant projects\n",
    "4. Get important to share information about these projects\n",
    "5. Write a compelling cold email about how your firm can be of great service to your potential client\n",
    "6. Repeat for ALL potential clients\n",
    "\"\"\""
   ]
  },
  {
   "cell_type": "code",
   "execution_count": 2,
   "id": "e2082ec4-8a33-4cdf-8458-e6856ad2e218",
   "metadata": {},
   "outputs": [
    {
     "name": "stdout",
     "output_type": "stream",
     "text": [
      "Requirement already satisfied: langchain_community in /home/bhumi/Coding/personal/ai/huggingface/ai/lib/python3.12/site-packages (0.3.24)\n",
      "Requirement already satisfied: langchain-core<1.0.0,>=0.3.59 in /home/bhumi/Coding/personal/ai/huggingface/ai/lib/python3.12/site-packages (from langchain_community) (0.3.62)\n",
      "Requirement already satisfied: langchain<1.0.0,>=0.3.25 in /home/bhumi/Coding/personal/ai/huggingface/ai/lib/python3.12/site-packages (from langchain_community) (0.3.25)\n",
      "Requirement already satisfied: SQLAlchemy<3,>=1.4 in /home/bhumi/Coding/personal/ai/huggingface/ai/lib/python3.12/site-packages (from langchain_community) (2.0.41)\n",
      "Requirement already satisfied: requests<3,>=2 in /home/bhumi/Coding/personal/ai/huggingface/ai/lib/python3.12/site-packages (from langchain_community) (2.32.3)\n",
      "Requirement already satisfied: PyYAML>=5.3 in /home/bhumi/Coding/personal/ai/huggingface/ai/lib/python3.12/site-packages (from langchain_community) (6.0.2)\n",
      "Requirement already satisfied: aiohttp<4.0.0,>=3.8.3 in /home/bhumi/Coding/personal/ai/huggingface/ai/lib/python3.12/site-packages (from langchain_community) (3.12.2)\n",
      "Requirement already satisfied: tenacity!=8.4.0,<10,>=8.1.0 in /home/bhumi/Coding/personal/ai/huggingface/ai/lib/python3.12/site-packages (from langchain_community) (9.1.2)\n",
      "Requirement already satisfied: dataclasses-json<0.7,>=0.5.7 in /home/bhumi/Coding/personal/ai/huggingface/ai/lib/python3.12/site-packages (from langchain_community) (0.6.7)\n",
      "Requirement already satisfied: pydantic-settings<3.0.0,>=2.4.0 in /home/bhumi/Coding/personal/ai/huggingface/ai/lib/python3.12/site-packages (from langchain_community) (2.9.1)\n",
      "Requirement already satisfied: langsmith<0.4,>=0.1.125 in /home/bhumi/Coding/personal/ai/huggingface/ai/lib/python3.12/site-packages (from langchain_community) (0.3.42)\n",
      "Requirement already satisfied: httpx-sse<1.0.0,>=0.4.0 in /home/bhumi/Coding/personal/ai/huggingface/ai/lib/python3.12/site-packages (from langchain_community) (0.4.0)\n",
      "Requirement already satisfied: numpy>=1.26.2 in /home/bhumi/Coding/personal/ai/huggingface/ai/lib/python3.12/site-packages (from langchain_community) (2.2.6)\n",
      "Requirement already satisfied: aiohappyeyeballs>=2.5.0 in /home/bhumi/Coding/personal/ai/huggingface/ai/lib/python3.12/site-packages (from aiohttp<4.0.0,>=3.8.3->langchain_community) (2.6.1)\n",
      "Requirement already satisfied: aiosignal>=1.1.2 in /home/bhumi/Coding/personal/ai/huggingface/ai/lib/python3.12/site-packages (from aiohttp<4.0.0,>=3.8.3->langchain_community) (1.3.2)\n",
      "Requirement already satisfied: attrs>=17.3.0 in /home/bhumi/Coding/personal/ai/huggingface/ai/lib/python3.12/site-packages (from aiohttp<4.0.0,>=3.8.3->langchain_community) (25.3.0)\n",
      "Requirement already satisfied: frozenlist>=1.1.1 in /home/bhumi/Coding/personal/ai/huggingface/ai/lib/python3.12/site-packages (from aiohttp<4.0.0,>=3.8.3->langchain_community) (1.6.0)\n",
      "Requirement already satisfied: multidict<7.0,>=4.5 in /home/bhumi/Coding/personal/ai/huggingface/ai/lib/python3.12/site-packages (from aiohttp<4.0.0,>=3.8.3->langchain_community) (6.4.4)\n",
      "Requirement already satisfied: propcache>=0.2.0 in /home/bhumi/Coding/personal/ai/huggingface/ai/lib/python3.12/site-packages (from aiohttp<4.0.0,>=3.8.3->langchain_community) (0.3.1)\n",
      "Requirement already satisfied: yarl<2.0,>=1.17.0 in /home/bhumi/Coding/personal/ai/huggingface/ai/lib/python3.12/site-packages (from aiohttp<4.0.0,>=3.8.3->langchain_community) (1.20.0)\n",
      "Requirement already satisfied: marshmallow<4.0.0,>=3.18.0 in /home/bhumi/Coding/personal/ai/huggingface/ai/lib/python3.12/site-packages (from dataclasses-json<0.7,>=0.5.7->langchain_community) (3.26.1)\n",
      "Requirement already satisfied: typing-inspect<1,>=0.4.0 in /home/bhumi/Coding/personal/ai/huggingface/ai/lib/python3.12/site-packages (from dataclasses-json<0.7,>=0.5.7->langchain_community) (0.9.0)\n",
      "Requirement already satisfied: langchain-text-splitters<1.0.0,>=0.3.8 in /home/bhumi/Coding/personal/ai/huggingface/ai/lib/python3.12/site-packages (from langchain<1.0.0,>=0.3.25->langchain_community) (0.3.8)\n",
      "Requirement already satisfied: pydantic<3.0.0,>=2.7.4 in /home/bhumi/Coding/personal/ai/huggingface/ai/lib/python3.12/site-packages (from langchain<1.0.0,>=0.3.25->langchain_community) (2.11.5)\n",
      "Requirement already satisfied: jsonpatch<2.0,>=1.33 in /home/bhumi/Coding/personal/ai/huggingface/ai/lib/python3.12/site-packages (from langchain-core<1.0.0,>=0.3.59->langchain_community) (1.33)\n",
      "Requirement already satisfied: packaging<25,>=23.2 in /home/bhumi/Coding/personal/ai/huggingface/ai/lib/python3.12/site-packages (from langchain-core<1.0.0,>=0.3.59->langchain_community) (24.2)\n",
      "Requirement already satisfied: typing-extensions>=4.7 in /home/bhumi/Coding/personal/ai/huggingface/ai/lib/python3.12/site-packages (from langchain-core<1.0.0,>=0.3.59->langchain_community) (4.13.2)\n",
      "Requirement already satisfied: httpx<1,>=0.23.0 in /home/bhumi/Coding/personal/ai/huggingface/ai/lib/python3.12/site-packages (from langsmith<0.4,>=0.1.125->langchain_community) (0.28.1)\n",
      "Requirement already satisfied: orjson<4.0.0,>=3.9.14 in /home/bhumi/Coding/personal/ai/huggingface/ai/lib/python3.12/site-packages (from langsmith<0.4,>=0.1.125->langchain_community) (3.10.18)\n",
      "Requirement already satisfied: requests-toolbelt<2.0.0,>=1.0.0 in /home/bhumi/Coding/personal/ai/huggingface/ai/lib/python3.12/site-packages (from langsmith<0.4,>=0.1.125->langchain_community) (1.0.0)\n",
      "Requirement already satisfied: zstandard<0.24.0,>=0.23.0 in /home/bhumi/Coding/personal/ai/huggingface/ai/lib/python3.12/site-packages (from langsmith<0.4,>=0.1.125->langchain_community) (0.23.0)\n",
      "Requirement already satisfied: python-dotenv>=0.21.0 in /home/bhumi/Coding/personal/ai/huggingface/ai/lib/python3.12/site-packages (from pydantic-settings<3.0.0,>=2.4.0->langchain_community) (1.1.0)\n",
      "Requirement already satisfied: typing-inspection>=0.4.0 in /home/bhumi/Coding/personal/ai/huggingface/ai/lib/python3.12/site-packages (from pydantic-settings<3.0.0,>=2.4.0->langchain_community) (0.4.1)\n",
      "Requirement already satisfied: charset-normalizer<4,>=2 in /home/bhumi/Coding/personal/ai/huggingface/ai/lib/python3.12/site-packages (from requests<3,>=2->langchain_community) (3.4.2)\n",
      "Requirement already satisfied: idna<4,>=2.5 in /home/bhumi/Coding/personal/ai/huggingface/ai/lib/python3.12/site-packages (from requests<3,>=2->langchain_community) (3.10)\n",
      "Requirement already satisfied: urllib3<3,>=1.21.1 in /home/bhumi/Coding/personal/ai/huggingface/ai/lib/python3.12/site-packages (from requests<3,>=2->langchain_community) (2.4.0)\n",
      "Requirement already satisfied: certifi>=2017.4.17 in /home/bhumi/Coding/personal/ai/huggingface/ai/lib/python3.12/site-packages (from requests<3,>=2->langchain_community) (2025.4.26)\n",
      "Requirement already satisfied: greenlet>=1 in /home/bhumi/Coding/personal/ai/huggingface/ai/lib/python3.12/site-packages (from SQLAlchemy<3,>=1.4->langchain_community) (3.2.2)\n",
      "Requirement already satisfied: anyio in /home/bhumi/Coding/personal/ai/huggingface/ai/lib/python3.12/site-packages (from httpx<1,>=0.23.0->langsmith<0.4,>=0.1.125->langchain_community) (4.9.0)\n",
      "Requirement already satisfied: httpcore==1.* in /home/bhumi/Coding/personal/ai/huggingface/ai/lib/python3.12/site-packages (from httpx<1,>=0.23.0->langsmith<0.4,>=0.1.125->langchain_community) (1.0.9)\n",
      "Requirement already satisfied: h11>=0.16 in /home/bhumi/Coding/personal/ai/huggingface/ai/lib/python3.12/site-packages (from httpcore==1.*->httpx<1,>=0.23.0->langsmith<0.4,>=0.1.125->langchain_community) (0.16.0)\n",
      "Requirement already satisfied: jsonpointer>=1.9 in /home/bhumi/Coding/personal/ai/huggingface/ai/lib/python3.12/site-packages (from jsonpatch<2.0,>=1.33->langchain-core<1.0.0,>=0.3.59->langchain_community) (3.0.0)\n",
      "Requirement already satisfied: annotated-types>=0.6.0 in /home/bhumi/Coding/personal/ai/huggingface/ai/lib/python3.12/site-packages (from pydantic<3.0.0,>=2.7.4->langchain<1.0.0,>=0.3.25->langchain_community) (0.7.0)\n",
      "Requirement already satisfied: pydantic-core==2.33.2 in /home/bhumi/Coding/personal/ai/huggingface/ai/lib/python3.12/site-packages (from pydantic<3.0.0,>=2.7.4->langchain<1.0.0,>=0.3.25->langchain_community) (2.33.2)\n",
      "Requirement already satisfied: mypy-extensions>=0.3.0 in /home/bhumi/Coding/personal/ai/huggingface/ai/lib/python3.12/site-packages (from typing-inspect<1,>=0.4.0->dataclasses-json<0.7,>=0.5.7->langchain_community) (1.1.0)\n",
      "Requirement already satisfied: sniffio>=1.1 in /home/bhumi/Coding/personal/ai/huggingface/ai/lib/python3.12/site-packages (from anyio->httpx<1,>=0.23.0->langsmith<0.4,>=0.1.125->langchain_community) (1.3.1)\n",
      "Note: you may need to restart the kernel to use updated packages.\n"
     ]
    }
   ],
   "source": [
    "pip install langchain_community"
   ]
  },
  {
   "cell_type": "code",
   "execution_count": 9,
   "id": "cc1011ac-8872-4744-a64b-91baec150f40",
   "metadata": {},
   "outputs": [
    {
     "name": "stdout",
     "output_type": "stream",
     "text": [
      "[Document(metadata={'source': 'https://ibmglobal.avature.net/en_US/careers/JobDetail?jobId=7294&source=WEB_Search_INDIA', 'title': '\\n        Infrastructure Specialist-System Administration - 7294 - IBM\\n    ', 'language': 'en'}, page_content=\"\\n\\n\\n\\n\\n\\n\\n\\n\\n\\n\\n\\n\\n\\n\\n        Infrastructure Specialist-System Administration - 7294 - IBM\\n    \\n\\n\\n\\n\\n\\n\\n\\n\\n\\n\\n\\n\\n\\n                        Skip to content                    \\n\\n\\n\\n\\n\\nIBM\\n\\n\\n\\n\\n\\n\\n\\n\\n\\n\\n\\n\\n\\n                IBM Careers\\n            \\n\\n\\n\\n\\n\\n                Life @ IBM\\n            \\n\\n\\n\\n\\n\\n                Culture\\n            \\n\\n\\n\\n\\n\\n                Locations\\n            \\n\\n\\n\\n\\n\\n                Careers blog\\n            \\n\\n\\n\\n\\n\\n\\n\\n                Teams\\n            \\n\\n\\n\\n\\n\\n                AI & watsonx\\n            \\n\\n\\n\\n\\n\\n                Cloud\\n            \\n\\n\\n\\n\\n\\n                Consulting\\n            \\n\\n\\n\\n\\n\\n                Data & Analytics\\n            \\n\\n\\n\\n\\n\\n                Design & UX\\n            \\n\\n\\n\\n\\n\\n                Enterprise Operations\\n            \\n\\n\\n\\n\\n\\n                Infrastructure & Technology\\n            \\n\\n\\n\\n\\n\\n                Project and Product Management\\n            \\n\\n\\n\\n\\n\\n                Research\\n            \\n\\n\\n\\n\\n\\n                Sales\\n            \\n\\n\\n\\n\\n\\n                Security\\n            \\n\\n\\n\\n\\n\\n                Software Engineering\\n            \\n\\n\\n\\n\\n\\n\\n\\n                Entry Level\\n            \\n\\n\\n\\n\\n\\n                Internship\\n            \\n\\n\\n\\n\\n\\n                Career opportunities\\n            \\n\\n\\n\\n\\n\\n                Career guidance\\n            \\n\\n\\n\\n\\n\\n\\n\\n                Resources\\n            \\n\\n\\n\\n\\n\\n                Application process\\n            \\n\\n\\n\\n\\n\\n                Application FAQs\\n            \\n\\n\\n\\n\\n\\n                Applicant data privacy\\n            \\n\\n\\n\\n\\n\\n\\n\\n\\n\\n\\n                Login\\n            \\n\\n\\n\\n\\n\\n\\n\\n\\n\\n\\n\\n\\n\\n\\n                            < Back to search results\\n                        \\n\\n\\n\\n                    Infrastructure Specialist-System Administration\\n                \\n\\n\\nBANGALORE, Karnataka, India\\nConsulting\\nProfessional\\n\\n\\n\\n\\n\\nEmail\\n\\n\\nX\\n\\n\\nLinkedIn\\n\\n\\n\\n\\n\\n\\n\\n\\n\\n\\n                                    Apply now\\n                                \\n\\n\\n\\n\\n\\n\\n\\n\\n\\n\\n\\n\\n\\n\\n\\n\\n\\n\\n                                                Introduction\\n                                            \\n\\nIn this role, you'll work in one of our IBM Consulting Client Innovation Centers (Delivery Centers), where we deliver deep technical and industry expertise to a wide range of public and private sector clients around the world. Our delivery centers offer our clients locally based skills and technical expertise to drive innovation and adoption of new technology.A career in IBM Consulting embraces long-term relationships and close collaboration with clients across the globe.You will collaborate with visionaries across multiple industries to improve the hybrid cloud and AI journey for the most innovative and valuable companies in the world. Your ability to accelerate impact and make meaningful change for your clients is enabled by our strategic partner ecosystem and our robust technology platforms across the IBM portfolio, including IBM Software and Red Hat.Curiosity and a constant quest for knowledge serve as the foundation to success in IBM Consulting. In your role, you will be supported by mentors and coaches who will encourage you to challenge the norm, investigate ideas outside of your role, and come up with creative solutions resulting in ground-breaking impact for a wide network of clients. Our culture of evolution and empathy centers on long-term career growth and learning opportunities in an environment that embraces your unique skills and experience.\\n\\n\\n\\n\\nIn this role, you'll work in one of our IBM Consulting Client Innovation Centers (Delivery Centers), where we deliver deep technical and industry expertise to a wide range of public and private sector clients around the world. Our delivery centers offer our clients locally based skills and technical expertise to drive innovation and adoption of new technology.\\n\\n\\n\\n\\n                                                Your role and responsibilities\\n                                            \\n\\nAs an Infrastructure Specialist at IBM, you will support the infrastructure running industries likes transportation, energy, insurance, banking, or healthcare which are rapidly changing as the worlds relationship with technology evolves. Ready to help our clients take the next step forwardCompanies have more choices than ever before between on-premise, off-premise, or a hybrid approach. As an Infrastructure Specialist, you will be responsible for keeping up with the latest changes, using your expertise to deliver solutions that meet the needs of our clients and products. In your role you may be responsible for:Define, analyse, and review technical architecture on required platform and coming up with architecture options and recommendationsDefine, detail, and scope the technical requirements into solutionsWork across key activities in configuration, systems management tools and backup and recoverySupport Technical Consultants and lead in building solutions and providing technical mentoring and guidanceYour primary responsibilities include:Good demonstration of IBM MQ conceptual understanding, administration, managing MQ environment, troubleshooting, configuration etcThe administrator will be responsible for collaborating with members of our Technical Delivery Teams and Architecture teams to support and improve the delivery of managed servicesAbility to diagnose defects/issues, and demonstrates triage and problem-solving capability to develop and deliver quality solutionsExperience in debugging shell scripts and Python programmingAbility to analyse and evaluate designs and understand process flowThe administrator will be responsible for:The build, deployment, support, and performance of systemsMaintaining compliance to avoid data loss and unauthorized access\\n\\n\\n\\n\\n                                                Required education\\n                                            \\n\\n                                                                                            Bachelor's Degree\\n                                                                                    \\n\\n\\n\\n                                                Preferred education\\n                                            \\n\\n                                                                                            Master's Degree\\n                                                                                    \\n\\n\\n\\n                                                Required technical and professional expertise\\n                                            \\n\\nSSL Administration like certificate renewal and monitoringExperience in queue manager configuration and load balancing, security management (OAM), performance and tuningExperience with MQ in AIX, Red Hat Linux (RHEL) and Windows serversExperience in Managed File Transfers (MFT)Configuration, deployments, and vulnerability remediation in multi-tier environments with firewalls, load balancers, and high availability solutions\\n\\n\\n\\n\\n                                                Preferred technical and professional experience\\n                                            \\n\\nWorking experience in Cloud (GCP, AWS)Knowledge in CI/CD and pipeline automation toolsKnowledge in Containerization / Kubernetes / OpenShift\\n\\n\\n\\n\\n\\n\\n\\n\\n\\n                \\n                ABOUT BUSINESS UNIT\\n            \\n\\n\\n\\n\\n\\n\\n\\n\\n\\n\\n\\n                                                                                            IBM Consulting is IBM’s consulting and global professional services business, with market leading capabilities in business and technology transformation. With deep expertise in many industries, we offer strategy, experience, technology, and operations services to many of the most innovative and valuable companies in the world. Our people are focused on accelerating our clients’ businesses through the power of collaboration. We believe in the power of technology responsibly used to help people, partners and the planet.\\n                                                                                    \\n\\n\\n\\n\\n\\n\\n\\n\\n                \\n                YOUR LIFE @ IBM\\n            \\n\\n\\n\\n\\n\\n\\n\\n\\n\\n\\n\\nIn a world where technology never stands still, we understand that, dedication to our clients success, innovation that matters, and trust and personal responsibility in all our relationships, lives in what we do as IBMers as we strive to be the catalyst that makes the world work better. Being an IBMer means you’ll be able to learn and develop yourself and your career, you’ll be encouraged to be courageous and experiment everyday, all whilst having continuous trust and support in an environment where everyone can thrive whatever their personal or professional background. \\xa0 Our IBMers are growth minded, always staying curious, open to feedback and learning new information and skills to constantly transform themselves and our company. They are trusted to provide on-going feedback to help other IBMers grow, as well as collaborate with colleagues keeping in mind a team focused approach to include different perspectives to drive exceptional outcomes for our customers. The courage our IBMers have to make critical decisions everyday is essential to IBM becoming the catalyst for progress, always embracing challenges with resources they have to hand, a can-do attitude and always striving for an outcome focused approach within everything that they do. \\xa0 Are you ready to be an IBMer?\\n\\n\\n\\n\\n\\n\\n\\n\\n\\n                \\n                ABOUT IBM\\n            \\n\\n\\n\\n\\n\\n\\n\\n\\n\\n\\n\\nIBM’s greatest invention is the IBMer. We believe that through the application of intelligence, reason and science, we can improve business, society and the human condition, bringing the power of an open hybrid cloud and AI strategy to life for our clients and partners around the world. \\xa0 Restlessly reinventing since 1911, we are not only one of the largest corporate organizations in the world, we’re also one of the biggest technology and consulting employers, with many of the Fortune 50 companies relying on the IBM Cloud to run their business.\\xa0 \\xa0 At IBM, we pride ourselves on being an early adopter of artificial intelligence, quantum computing and blockchain. Now it’s time for you to join us on our journey to being a responsible technology innovator and a force for good in the world.\\n\\n\\n\\n\\nIBM is proud to be an equal-opportunity employer. All qualified\\napplicants will receive consideration for employment without regard to race,\\ncolor, religion, sex, gender, gender identity or expression, sexual\\norientation, national origin, caste, genetics, pregnancy, disability,\\nneurodivergence, age, veteran status, or other characteristics. IBM is also\\ncommitted to compliance with all fair employment practices regarding\\ncitizenship and immigration status.\\n\\n\\n\\n\\n\\n\\n\\n\\n\\n                \\n                OTHER RELEVANT JOB DETAILS\\n            \\n\\n\\n\\n\\n\\n\\n\\n\\n\\n\\n\\nWhen applying to jobs of your interest, we recommend that you do so for those that match your experience and expertise. Our recruiters advise that you apply to not more than 3 roles in a year for the best candidate experience. For additional information about location requirements, please discuss with the recruiter following submission of your application.\\n\\n\\n\\n\\n\\n\\n\\n\\n\\n\\n\\n\\n\\n\\n\\n\\n\\n\\n                                                Job Title\\n                                            \\n\\n                                                                                            Infrastructure Specialist-System Administration\\n                                                                                    \\n\\n\\n\\n                                                Job ID\\n                                            \\n\\n                                                                                            7294\\n                                                                                    \\n\\n\\n\\n                                                City / Township / Village\\n                                            \\n\\n                                                                                            BANGALORE\\n                                                                                    \\n\\n\\n\\n                                                State / Province\\n                                            \\n\\n                                                                                            Karnataka\\n                                                                                    \\n\\n\\n\\n                                                Country\\n                                            \\n\\n                                                                                            India\\n                                                                                    \\n\\n\\n\\n                                                Work arrangement\\n                                            \\n\\n                                                                                            Hybrid\\n                                                                                    \\n\\n\\n\\n                                                Area of work\\n                                            \\n\\n                                                                                            Infrastructure & Technology\\n                                                                                    \\n\\n\\n\\n                                                Employment type\\n                                            \\n\\n                                                                                            Regular\\n                                                                                    \\n\\n\\n\\n                                                Position type\\n                                            \\n\\n                                                                                            Professional\\n                                                                                    \\n\\n\\n\\n                                                Travel required\\n                                            \\n\\n                                                                                            Up to 20% or 1 day a week\\n                                                                                    \\n\\n\\n\\n                                                Company\\n                                            \\n\\n                                                                                            (0063) IBM India Private Limited\\n                                                                                    \\n\\n\\n\\n                                                Shift\\n                                            \\n\\n                                                                                            General (daytime)\\n                                                                                    \\n\\n\\n\\n                                                Is this role a commissionable/sales incentive based position?\\n                                            \\n\\n                                                                                            No\\n                                                                                    \\n\\n\\n\\n\\n\\n\\n\\n\\n\\n\\n\\n\\n                                                Apply now\\n                                            \\n\\n\\n\\n\\n\\n\\n\\n\\n\\n\\n\\n\\n\\n                    < Back to search results\\n                \\n\\n\\n\\n\\n\\n\\n\\n\\n\\n\\n\\n\\n\\n\\nApplication Info\\n\\n\\nApplication FAQ\\n\\n\\nPrivacy statement\\n\\n\\n\\n\\n\\n                            Learn more about IBM                        \\n\\n\\n\\n\\n\\n\\n\\n\\n\\n\\n\\n\\n\\n\\n\\n\\n\\n\\n\\n\\n\\n\\n\\n\\n\\n\\n                                                English\\n                                            \\n\\n\\nEnglishEspañolFrançaisFrançais CanadienPortuguêsSlovenščina日本語\\n\\n\\n\\n\\n\\n\\n\\nContact IBM\\n\\n\\nPrivacy\\n\\n\\nTerms of use\\n\\n\\nAccessibility\\n\\n\\n\\n\\n\\n\\n \\n\\n\\n\\n\")]\n"
     ]
    }
   ],
   "source": [
    "# Web scrapping\n",
    "\n",
    "from langchain_community.document_loaders import WebBaseLoader\n",
    "\n",
    "loader = WebBaseLoader(\"https://ibmglobal.avature.net/en_US/careers/JobDetail?jobId=7294&source=WEB_Search_INDIA\")\n",
    "\n",
    "page_data = loader.load()\n",
    "\n",
    "print(page_data)"
   ]
  },
  {
   "cell_type": "code",
   "execution_count": 12,
   "id": "e9fcc102-6f31-417b-8185-fa03be781e71",
   "metadata": {},
   "outputs": [
    {
     "name": "stdout",
     "output_type": "stream",
     "text": [
      "RESPONSE :: Mahatma Gandhi was an Indian independence activist, philosopher, and leader who played a key role in India's struggle for independence from British rule. Born on October 2, 1869, in Porbandar, India, Gandhi was a lawyer by training and a devout Hindu.\n",
      "\n",
      "Gandhi's philosophy of non-violent resistance, which he called \"Satyagraha,\" emphasized the use of non-violent civil disobedience to achieve social and political change. He believed in the power of non-violence to bring about transformation and was influenced by the teachings of Hinduism, Buddhism, and Christianity.\n",
      "\n",
      "Gandhi's most notable contributions include:\n",
      "\n",
      "1. **Indian Independence Movement**: Gandhi led the Indian National Congress in a non-violent struggle against British rule, using tactics such as civil disobedience, boycotts, and non-cooperation.\n",
      "2. **Salt March**: In 1930, Gandhi led a 24-day march from Ahmedabad to the coast of India to protest the British salt tax, which was a major source of income for the British government.\n",
      "3. **Quit India Movement**: In 1942, Gandhi launched the Quit India Movement, a mass civil disobedience campaign that called for British withdrawal from India.\n",
      "4. **Non-violent Resistance**: Gandhi's philosophy of non-violent resistance has inspired movements for civil rights and social justice around the world, including the American Civil Rights Movement led by Martin Luther King Jr.\n",
      "\n",
      "Gandhi's personal life was marked by simplicity, humility, and a commitment to non-violence. He was married to Kasturba Gandhi and had four sons. He was assassinated on January 30, 1948, by a Hindu nationalist who opposed his tolerance for Muslims.\n",
      "\n",
      "Gandhi's legacy is profound and far-reaching. He is remembered as a champion of non-violence, a leader of the Indian independence movement, and a symbol of hope and inspiration for people around the world.\n"
     ]
    }
   ],
   "source": [
    "from langchain_groq import ChatGroq\n",
    "\n",
    "llm = ChatGroq(\n",
    "    model=\"llama-3.1-8b-instant\",\n",
    "    temperature=0,\n",
    "    max_tokens=None,\n",
    "    timeout=None,\n",
    "    max_retries=2,\n",
    "    # other params...\n",
    ")\n",
    "\n",
    "# response = llm.invoke(\"Who is mahatma gandhi, No preamble\")\n",
    "# print(f\"RESPONSE :: {response.content}\")"
   ]
  },
  {
   "cell_type": "code",
   "execution_count": 16,
   "id": "b50edc52-1a3a-4054-b349-39acebaf8f7b",
   "metadata": {},
   "outputs": [
    {
     "name": "stdout",
     "output_type": "stream",
     "text": [
      "{\n",
      "  \"role\": \"Infrastructure Specialist-System Administration\",\n",
      "  \"experience\": \"Professional\",\n",
      "  \"skills\": [\n",
      "    \"SSL Administration\",\n",
      "    \"Queue manager configuration and load balancing\",\n",
      "    \"Security management (OAM)\",\n",
      "    \"Performance and tuning\",\n",
      "    \"Managed File Transfers (MFT)\",\n",
      "    \"Configuration, deployments, and vulnerability remediation in multi-tier environments with firewalls, load balancers, and high availability solutions\",\n",
      "    \"Cloud (GCP, AWS)\",\n",
      "    \"CI/CD and pipeline automation tools\",\n",
      "    \"Containerization / Kubernetes / OpenShift\",\n",
      "    \"IBM MQ conceptual understanding, administration, managing MQ environment, troubleshooting, configuration\"\n",
      "  ],\n",
      "  \"description\": \"In this role, you'll work in one of our IBM Consulting Client Innovation Centers (Delivery Centers), where we deliver deep technical and industry expertise to a wide range of public and private sector clients around the world. Our delivery centers offer our clients locally based skills and technical expertise to drive innovation and adoption of new technology.\\n\\nAs an Infrastructure Specialist at IBM, you will support the infrastructure running industries likes transportation, energy, insurance, banking, or healthcare which are rapidly changing as the worlds relationship with technology evolves. Ready to help our clients take the next step forward\\n\\nYour primary responsibilities include:\\n\\n* Good demonstration of IBM MQ conceptual understanding, administration, managing MQ environment, troubleshooting, configuration etc\\n\\n* The administrator will be responsible for collaborating with members of our Technical Delivery Teams and Architecture teams to support and improve the delivery of managed services\\n\\n* Ability to diagnose defects/issues, and demonstrates triage and problem-solving capability to develop and deliver quality solutions\\n\\n* Experience in debugging shell scripts and Python programming\\n\\n* Ability to analyse and evaluate designs and understand process flow\\n\\nThe administrator will be responsible for:\\n\\n* The build, deployment, support, and performance of systems\\n\\n* Maintaining compliance to avoid data loss and unauthorized access\"\n",
      "}\n",
      "<class 'str'>\n"
     ]
    }
   ],
   "source": [
    "from langchain_core.prompts import PromptTemplate\n",
    "\n",
    "prompt_extract = PromptTemplate.from_template(\n",
    "    \"\"\"\n",
    "    I will give you scraped text from the job posting. \n",
    "    Your job is to extract the job details & requirements in a JSON format containing the following keys: 'role', 'experience', 'skills', and 'description'. \n",
    "    Only return valid JSON. No preamble, please.\n",
    "    Here is the scraped text: {page_data}\n",
    "    \"\"\"\n",
    ")\n",
    "\n",
    "chain = prompt_extract | llm\n",
    "\n",
    "response = chain.invoke(input={\"page_data\" : page_data})\n",
    "print(response.content)\n",
    "print(type(response.content))"
   ]
  },
  {
   "cell_type": "code",
   "execution_count": 19,
   "id": "8b67906f-4edf-45fd-a31e-c10f561d4cf0",
   "metadata": {},
   "outputs": [
    {
     "name": "stdout",
     "output_type": "stream",
     "text": [
      "<class 'dict'>\n"
     ]
    }
   ],
   "source": [
    "\n",
    "\n",
    "\n",
    "json_parser = JsonOutputParser()\n",
    "content = json_parser.parse(response.content)\n",
    "print(type(content))"
   ]
  },
  {
   "cell_type": "code",
   "execution_count": 20,
   "id": "2c35f52a-c597-4943-9d7b-d5cb9ecd3f80",
   "metadata": {},
   "outputs": [
    {
     "name": "stdout",
     "output_type": "stream",
     "text": [
      "('Python', ' SQL', ' Pandas')  https://github.com/user/project1\n",
      "('SQL', ' Python', ' Airflow')  https://github.com/user/project2\n",
      "('PySpark', ' Spark SQL', ' Delta Lake')  https://github.com/user/project3\n",
      "('Machine Learning', ' Deep Learning', ' TensorFlow')  https://github.com/user/project4\n",
      "('Data Engineering', ' ETL', ' ELT')  https://github.com/user/project5\n",
      "('Cloud Platforms (AWS', ' GCP', ' Azure)')  https://github.com/user/project6\n",
      "('Data Warehousing', ' Data Modeling', ' DBT')  https://github.com/user/project7\n",
      "('Data Visualization', ' Power BI', ' Tableau')  https://github.com/user/project8\n",
      "('MLOps', ' MLflow', ' Kubeflow')  https://github.com/user/project9\n",
      "('Natural Language Processing (NLP)', ' NLTK', ' spaCy')  https://github.com/user/project10\n",
      "('Computer Vision', ' OpenCV', ' TensorFlow')  https://github.com/user/project11\n",
      "('Time Series Analysis', ' Forecasting', ' Prophet')  https://github.com/user/project12\n",
      "('Data Cleaning', ' Data Wrangling', ' Pandas')  https://github.com/user/project13\n",
      "('Feature Engineering', ' Scikit-learn')  https://github.com/user/project14\n",
      "('Statistical Analysis', ' Hypothesis Testing')  https://github.com/user/project15\n",
      "('Data Ethics', ' Privacy', ' GDPR')  https://github.com/user/project16\n",
      "('Big Data', ' Hadoop', ' Spark')  https://github.com/user/project17\n",
      "('Data Governance', ' Data Quality', ' Metadata Management')  https://github.com/user/project18\n",
      "('Data Security', ' Encryption', ' Tokenization')  https://github.com/user/project19\n",
      "('Cloud Data Engineering', ' AWS Glue', ' Databricks')  https://github.com/user/project20\n"
     ]
    }
   ],
   "source": [
    "import csv\n",
    "\n",
    "def read_csv_file(file_path):\n",
    "    data = []\n",
    "    with open(file_path, 'r') as file:\n",
    "        csv_reader = csv.reader(file)\n",
    "        # Skip the header row\n",
    "        next(csv_reader)\n",
    "        for row in csv_reader:\n",
    "            # Separate technical skills (list) and project link (string)\n",
    "            skills = tuple(row[:-1])  # Exclude the last element (project link)\n",
    "            project_link = row[-1]  # Get the last element (project link)\n",
    "            data.append((skills, project_link))  # Create a tuple with skills and link\n",
    "    return data\n",
    "\n",
    "# Example usage:\n",
    "file_path = 'sample_portfolio.csv'  # Replace with your actual file path\n",
    "data = read_csv_file(file_path)\n",
    "\n",
    "for skills, project_link in data:\n",
    "    print(skills, project_link)\n",
    "    #print(project_link)"
   ]
  },
  {
   "cell_type": "code",
   "execution_count": 40,
   "id": "8c3001c6-2231-48b8-8dbe-dd45c017f928",
   "metadata": {},
   "outputs": [],
   "source": [
    "job_desc = content[\"description\"]"
   ]
  },
  {
   "cell_type": "code",
   "execution_count": 35,
   "id": "0b3e7406-3954-4255-bd87-4682fff559bb",
   "metadata": {},
   "outputs": [
    {
     "name": "stdout",
     "output_type": "stream",
     "text": [
      "{'ids': [['ca1514ba-783e-4487-881e-7b046b9141fa', '5d76909e-42a0-4ade-8137-f3b4c4d97e3d'], ['ad4e82ee-bb14-4e71-a6b2-ecdb4c3e05a7', 'd9f374c4-e2f0-4c20-b1ca-e60334a0c1bf'], ['ca1514ba-783e-4487-881e-7b046b9141fa', '56eb06d9-57f0-4402-885e-f1ee99a613f5'], ['46819f06-4d94-4256-9116-7476377318ac', 'fb1429db-4cba-4e8f-89c5-f1aba4491e6e'], ['56eb06d9-57f0-4402-885e-f1ee99a613f5', '9e0f5e62-26a7-4dd4-9e7e-f1cb14fb7e43'], ['ad4e82ee-bb14-4e71-a6b2-ecdb4c3e05a7', 'f84335b7-1ea0-4530-90d1-da66aacc318c'], ['f84335b7-1ea0-4530-90d1-da66aacc318c', 'c599bff6-3d33-4e5c-9bcb-978950e44f85'], ['c599bff6-3d33-4e5c-9bcb-978950e44f85', '59e1e845-b8af-423f-a67e-c16ad47a789d'], ['ad4e82ee-bb14-4e71-a6b2-ecdb4c3e05a7', 'c599bff6-3d33-4e5c-9bcb-978950e44f85'], ['56eb06d9-57f0-4402-885e-f1ee99a613f5', 'd9f374c4-e2f0-4c20-b1ca-e60334a0c1bf']], 'embeddings': None, 'documents': [[\"('Data Security', ' Encryption', ' Tokenization')\", \"('Data Ethics', ' Privacy', ' GDPR')\"], [\"('MLOps', ' MLflow', ' Kubeflow')\", \"('Data Warehousing', ' Data Modeling', ' DBT')\"], [\"('Data Security', ' Encryption', ' Tokenization')\", \"('Data Governance', ' Data Quality', ' Metadata Management')\"], [\"('Time Series Analysis', ' Forecasting', ' Prophet')\", \"('Machine Learning', ' Deep Learning', ' TensorFlow')\"], [\"('Data Governance', ' Data Quality', ' Metadata Management')\", \"('Big Data', ' Hadoop', ' Spark')\"], [\"('MLOps', ' MLflow', ' Kubeflow')\", \"('Cloud Platforms (AWS', ' GCP', ' Azure)')\"], [\"('Cloud Platforms (AWS', ' GCP', ' Azure)')\", \"('Cloud Data Engineering', ' AWS Glue', ' Databricks')\"], [\"('Cloud Data Engineering', ' AWS Glue', ' Databricks')\", \"('Data Engineering', ' ETL', ' ELT')\"], [\"('MLOps', ' MLflow', ' Kubeflow')\", \"('Cloud Data Engineering', ' AWS Glue', ' Databricks')\"], [\"('Data Governance', ' Data Quality', ' Metadata Management')\", \"('Data Warehousing', ' Data Modeling', ' DBT')\"]], 'uris': None, 'included': ['metadatas', 'documents', 'distances'], 'data': None, 'metadatas': [[{'project_url': ' https://github.com/user/project19'}, {'project_url': ' https://github.com/user/project16'}], [{'project_url': ' https://github.com/user/project9'}, {'project_url': ' https://github.com/user/project7'}], [{'project_url': ' https://github.com/user/project19'}, {'project_url': ' https://github.com/user/project18'}], [{'project_url': ' https://github.com/user/project12'}, {'project_url': ' https://github.com/user/project4'}], [{'project_url': ' https://github.com/user/project18'}, {'project_url': ' https://github.com/user/project17'}], [{'project_url': ' https://github.com/user/project9'}, {'project_url': ' https://github.com/user/project6'}], [{'project_url': ' https://github.com/user/project6'}, {'project_url': ' https://github.com/user/project20'}], [{'project_url': ' https://github.com/user/project20'}, {'project_url': ' https://github.com/user/project5'}], [{'project_url': ' https://github.com/user/project9'}, {'project_url': ' https://github.com/user/project20'}], [{'project_url': ' https://github.com/user/project18'}, {'project_url': ' https://github.com/user/project7'}]], 'distances': [[1.256270170211792, 1.4725030660629272], [1.650856375694275, 1.759500503540039], [1.1329939365386963, 1.3613789081573486], [1.566746711730957, 1.604865550994873], [1.546000361442566, 1.5806550979614258], [1.4079395532608032, 1.4688262939453125], [0.41680020093917847, 0.927792489528656], [1.3503626585006714, 1.3696619272232056], [1.0643004179000854, 1.2642172574996948], [1.359707236289978, 1.3716238737106323]]}\n"
     ]
    }
   ],
   "source": [
    "# Store this portfolio data to chromadb\n",
    "\n",
    "import chromadb\n",
    "import uuid\n",
    "\n",
    "client = chromadb.PersistentClient(\"vectorstore\")\n",
    "collection = client.get_or_create_collection(\"my_links\")\n",
    "\n",
    "if not collection.count():\n",
    "    for skills, project_link in data:\n",
    "        collection.add(\n",
    "            documents = str(skills),\n",
    "            ids=[str(uuid.uuid4())],\n",
    "            metadatas = {\"project_url\" : project_link}\n",
    "        )\n",
    "\n",
    "portfolio_urls = collection.query(query_texts=content[\"skills\"], n_results=2)\n",
    "print(portfolio_urls)\n"
   ]
  },
  {
   "cell_type": "code",
   "execution_count": 39,
   "id": "e585276a-2b31-4dc6-8cc1-c6d4319b4841",
   "metadata": {},
   "outputs": [
    {
     "ename": "NameError",
     "evalue": "name 'job_desc' is not defined",
     "output_type": "error",
     "traceback": [
      "\u001b[31m---------------------------------------------------------------------------\u001b[39m",
      "\u001b[31mNameError\u001b[39m                                 Traceback (most recent call last)",
      "\u001b[36mCell\u001b[39m\u001b[36m \u001b[39m\u001b[32mIn[39]\u001b[39m\u001b[32m, line 17\u001b[39m\n\u001b[32m      1\u001b[39m email_prompt = PromptTemplate.from_template(\n\u001b[32m      2\u001b[39m \u001b[38;5;250m    \u001b[39m\u001b[33;03m\"\"\"\u001b[39;00m\n\u001b[32m      3\u001b[39m \u001b[33;03m    I will give you a role and a task that you have to perform in that specific role.\u001b[39;00m\n\u001b[32m   (...)\u001b[39m\u001b[32m     12\u001b[39m \u001b[33;03m    \"\"\"\u001b[39;00m\n\u001b[32m     13\u001b[39m )\n\u001b[32m     15\u001b[39m chain_email = email_prompt | llm\n\u001b[32m---> \u001b[39m\u001b[32m17\u001b[39m res = chain_email.invoke({\u001b[33m\"\u001b[39m\u001b[33mjob_description\u001b[39m\u001b[33m\"\u001b[39m : \u001b[43mjob_desc\u001b[49m, \u001b[33m\"\u001b[39m\u001b[33mportfoio_urls\u001b[39m\u001b[33m\"\u001b[39m :portfolio_urls })\n\u001b[32m     18\u001b[39m \u001b[38;5;28mprint\u001b[39m(res.content)\n",
      "\u001b[31mNameError\u001b[39m: name 'job_desc' is not defined"
     ]
    }
   ],
   "source": [
    "email_prompt = PromptTemplate.from_template(\n",
    "    \"\"\"\n",
    "    I will give you a role and a task that you have to perform in that specific role.\n",
    "    Your Role: Your name is Hassan, You are an incredible business development officer who knows how to get clients. You work for X Consulting firm, your firm works with all sorts of IT clients and provide solutions in the domain of Data Science and AI. \n",
    "    X AI focuses on efficient tailored solutions for all clients keeping costs down. \n",
    "    Your Job: Your Job is to write cold emails to clients regarding the Job openings that they have advertised. Try to pitch your clients with an email hook that opens a conversation about a possibility of working with them. Add the most relevant portfolio URLs from\n",
    "    the following (shared below) to showcase that we have the right expertise to get the job done. \n",
    "    I will now provide you with the Job description and the portfolio URLs:\n",
    "    JOB DESCRIPTION: {job_description}\n",
    "    ------\n",
    "    PORTFOLIO URLS: {portfolio_urls}\n",
    "    \"\"\"\n",
    ")\n",
    "\n",
    "chain_email = email_prompt | llm\n",
    "\n",
    "res = chain_email.invoke({\"job_description\" : job_desc, \"portfoio_urls\" :portfolio_urls })\n",
    "print(res.content)\n"
   ]
  }
 ],
 "metadata": {
  "kernelspec": {
   "display_name": "Python 3 (ipykernel)",
   "language": "python",
   "name": "python3"
  },
  "language_info": {
   "codemirror_mode": {
    "name": "ipython",
    "version": 3
   },
   "file_extension": ".py",
   "mimetype": "text/x-python",
   "name": "python",
   "nbconvert_exporter": "python",
   "pygments_lexer": "ipython3",
   "version": "3.12.3"
  }
 },
 "nbformat": 4,
 "nbformat_minor": 5
}
